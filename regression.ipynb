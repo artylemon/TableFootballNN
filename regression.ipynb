{
 "cells": [
  {
   "cell_type": "markdown",
   "metadata": {
    "id": "FhGuhbZ6M5tl"
   },
   "source": [
    "##### Copyright 2018 The TensorFlow Authors."
   ]
  },
  {
   "cell_type": "code",
   "execution_count": 36,
   "metadata": {
    "cellView": "form",
    "execution": {
     "iopub.execute_input": "2022-02-10T18:49:34.627189Z",
     "iopub.status.busy": "2022-02-10T18:49:34.626614Z",
     "iopub.status.idle": "2022-02-10T18:49:34.629125Z",
     "shell.execute_reply": "2022-02-10T18:49:34.628619Z"
    },
    "id": "AwOEIRJC6Une"
   },
   "outputs": [],
   "source": [
    "#@title Licensed under the Apache License, Version 2.0 (the \"License\");\n",
    "# you may not use this file except in compliance with the License.\n",
    "# You may obtain a copy of the License at\n",
    "#\n",
    "# https://www.apache.org/licenses/LICENSE-2.0\n",
    "#\n",
    "# Unless required by applicable law or agreed to in writing, software\n",
    "# distributed under the License is distributed on an \"AS IS\" BASIS,\n",
    "# WITHOUT WARRANTIES OR CONDITIONS OF ANY KIND, either express or implied.\n",
    "# See the License for the specific language governing permissions and\n",
    "# limitations under the License."
   ]
  },
  {
   "cell_type": "code",
   "execution_count": 37,
   "metadata": {
    "cellView": "form",
    "execution": {
     "iopub.execute_input": "2022-02-10T18:49:34.633670Z",
     "iopub.status.busy": "2022-02-10T18:49:34.632797Z",
     "iopub.status.idle": "2022-02-10T18:49:34.635300Z",
     "shell.execute_reply": "2022-02-10T18:49:34.634709Z"
    },
    "id": "KyPEtTqk6VdG"
   },
   "outputs": [],
   "source": [
    "#@title MIT License\n",
    "#\n",
    "# Copyright (c) 2017 François Chollet\n",
    "#\n",
    "# Permission is hereby granted, free of charge, to any person obtaining a\n",
    "# copy of this software and associated documentation files (the \"Software\"),\n",
    "# to deal in the Software without restriction, including without limitation\n",
    "# the rights to use, copy, modify, merge, publish, distribute, sublicense,\n",
    "# and/or sell copies of the Software, and to permit persons to whom the\n",
    "# Software is furnished to do so, subject to the following conditions:\n",
    "#\n",
    "# The above copyright notice and this permission notice shall be included in\n",
    "# all copies or substantial portions of the Software.\n",
    "#\n",
    "# THE SOFTWARE IS PROVIDED \"AS IS\", WITHOUT WARRANTY OF ANY KIND, EXPRESS OR\n",
    "# IMPLIED, INCLUDING BUT NOT LIMITED TO THE WARRANTIES OF MERCHANTABILITY,\n",
    "# FITNESS FOR A PARTICULAR PURPOSE AND NONINFRINGEMENT. IN NO EVENT SHALL\n",
    "# THE AUTHORS OR COPYRIGHT HOLDERS BE LIABLE FOR ANY CLAIM, DAMAGES OR OTHER\n",
    "# LIABILITY, WHETHER IN AN ACTION OF CONTRACT, TORT OR OTHERWISE, ARISING\n",
    "# FROM, OUT OF OR IN CONNECTION WITH THE SOFTWARE OR THE USE OR OTHER\n",
    "# DEALINGS IN THE SOFTWARE."
   ]
  },
  {
   "cell_type": "markdown",
   "metadata": {
    "id": "EIdT9iu_Z4Rb"
   },
   "source": [
    "# Basic regression: Predict fuel efficiency"
   ]
  },
  {
   "cell_type": "markdown",
   "metadata": {
    "id": "bBIlTPscrIT9"
   },
   "source": [
    "<table class=\"tfo-notebook-buttons\" align=\"left\">\n",
    "  <td>\n",
    "    <a target=\"_blank\" href=\"https://www.tensorflow.org/tutorials/keras/regression\"><img src=\"https://www.tensorflow.org/images/tf_logo_32px.png\" />View on TensorFlow.org</a>\n",
    "  </td>\n",
    "  <td>\n",
    "    <a target=\"_blank\" href=\"https://colab.research.google.com/github/tensorflow/docs/blob/master/site/en/tutorials/keras/regression.ipynb\"><img src=\"https://www.tensorflow.org/images/colab_logo_32px.png\" />Run in Google Colab</a>\n",
    "  </td>\n",
    "  <td>\n",
    "    <a target=\"_blank\" href=\"https://github.com/tensorflow/docs/blob/master/site/en/tutorials/keras/regression.ipynb\"><img src=\"https://www.tensorflow.org/images/GitHub-Mark-32px.png\" />View source on GitHub</a>\n",
    "  </td>\n",
    "  <td>\n",
    "    <a href=\"https://storage.googleapis.com/tensorflow_docs/docs/site/en/tutorials/keras/regression.ipynb\"><img src=\"https://www.tensorflow.org/images/download_logo_32px.png\" />Download notebook</a>\n",
    "  </td>\n",
    "</table>"
   ]
  },
  {
   "cell_type": "markdown",
   "metadata": {
    "id": "AHp3M9ZmrIxj"
   },
   "source": [
    "In a *regression* problem, the aim is to predict the output of a continuous value, like a price or a probability. Contrast this with a *classification* problem, where the aim is to select a class from a list of classes (for example, where a picture contains an apple or an orange, recognizing which fruit is in the picture).\n",
    "\n",
    "This tutorial uses the classic [Auto MPG](https://archive.ics.uci.edu/ml/datasets/auto+mpg) dataset and demonstrates how to build models to predict the fuel efficiency of the late-1970s and early 1980s automobiles. To do this, you will provide the models with a description of many automobiles from that time period. This description includes attributes like cylinders, displacement, horsepower, and weight.\n",
    "\n",
    "This example uses the Keras API. (Visit the Keras [tutorials](https://www.tensorflow.org/tutorials/keras) and [guides](https://www.tensorflow.org/guide/keras) to learn more.)"
   ]
  },
  {
   "cell_type": "code",
   "execution_count": 38,
   "metadata": {
    "execution": {
     "iopub.execute_input": "2022-02-10T18:49:34.644586Z",
     "iopub.status.busy": "2022-02-10T18:49:34.641649Z",
     "iopub.status.idle": "2022-02-10T18:49:36.229907Z",
     "shell.execute_reply": "2022-02-10T18:49:36.230328Z"
    },
    "id": "moB4tpEHxKB3"
   },
   "outputs": [],
   "source": [
    "# Use seaborn for pairplot.\n",
    "!pip install -q seaborn tensorflow"
   ]
  },
  {
   "cell_type": "code",
   "execution_count": 39,
   "metadata": {
    "execution": {
     "iopub.execute_input": "2022-02-10T18:49:36.235700Z",
     "iopub.status.busy": "2022-02-10T18:49:36.235094Z",
     "iopub.status.idle": "2022-02-10T18:49:37.710033Z",
     "shell.execute_reply": "2022-02-10T18:49:37.710427Z"
    },
    "id": "1rRo8oNqZ-Rj"
   },
   "outputs": [],
   "source": [
    "import matplotlib.pyplot as plt\n",
    "import numpy as np\n",
    "import pandas as pd\n",
    "import seaborn as sns\n",
    "\n",
    "# Make NumPy printouts easier to read.\n",
    "np.set_printoptions(precision=3, suppress=True)"
   ]
  },
  {
   "cell_type": "code",
   "execution_count": 40,
   "metadata": {
    "execution": {
     "iopub.execute_input": "2022-02-10T18:49:37.715002Z",
     "iopub.status.busy": "2022-02-10T18:49:37.714331Z",
     "iopub.status.idle": "2022-02-10T18:49:39.134511Z",
     "shell.execute_reply": "2022-02-10T18:49:39.134892Z"
    },
    "id": "9xQKvCJ85kCQ"
   },
   "outputs": [
    {
     "name": "stdout",
     "output_type": "stream",
     "text": [
      "2.9.1\n"
     ]
    }
   ],
   "source": [
    "import tensorflow as tf\n",
    "\n",
    "from tensorflow import keras\n",
    "from tensorflow.keras import layers\n",
    "\n",
    "print(tf.__version__)"
   ]
  },
  {
   "cell_type": "markdown",
   "metadata": {},
   "source": []
  },
  {
   "cell_type": "markdown",
   "metadata": {
    "id": "F_72b0LCNbjx"
   },
   "source": [
    "## The Auto MPG dataset\n",
    "\n",
    "The dataset is available from the [UCI Machine Learning Repository](https://archive.ics.uci.edu/ml/).\n"
   ]
  },
  {
   "cell_type": "markdown",
   "metadata": {
    "id": "gFh9ne3FZ-On"
   },
   "source": [
    "### Get the data\n",
    "First download and import the dataset using pandas:"
   ]
  },
  {
   "cell_type": "code",
   "execution_count": 41,
   "metadata": {
    "execution": {
     "iopub.execute_input": "2022-02-10T18:49:39.142027Z",
     "iopub.status.busy": "2022-02-10T18:49:39.141430Z",
     "iopub.status.idle": "2022-02-10T18:49:40.055975Z",
     "shell.execute_reply": "2022-02-10T18:49:40.055412Z"
    },
    "id": "CiX2FI4gZtTt"
   },
   "outputs": [],
   "source": [
    "# load the og dataset\n",
    "url = './averaged_data.csv'\n",
    "raw_dataset = pd.read_csv(url, na_values='?', skipinitialspace=True)"
   ]
  },
  {
   "cell_type": "code",
   "execution_count": 42,
   "metadata": {
    "execution": {
     "iopub.execute_input": "2022-02-10T18:49:40.174363Z",
     "iopub.status.busy": "2022-02-10T18:49:40.173711Z",
     "iopub.status.idle": "2022-02-10T18:49:40.184337Z",
     "shell.execute_reply": "2022-02-10T18:49:40.184737Z"
    },
    "id": "2oY3pMPagJrO",
    "scrolled": true
   },
   "outputs": [
    {
     "name": "stdout",
     "output_type": "stream",
     "text": [
      "      li     si     di    ai     lo     so  ao    po\n",
      "0  204.5   35.4  198.8  22.9  282.5   62.4  24  2.83\n",
      "1  105.7   34.7  281.2  15.5  183.7   71.7  15  3.05\n",
      "2    4.0   34.3  374.1  11.5   82.0   71.3  11  3.31\n",
      "3  106.1  113.7  253.5   6.7  184.1  150.7   7  2.95\n",
      "4    5.5  113.5  352.5   4.8   83.5  150.5   6  3.28\n",
      "5  106.3  224.0  254.3  -7.3  184.3  261.0  -7  3.00\n",
      "6    5.8  224.7  353.0  -5.3   83.8  261.7  -5  3.25\n",
      "7  205.3  303.1  201.9 -23.6  280.3  355.1 -24  2.96\n",
      "8  108.1  303.2  281.3 -16.2  184.1  350.2 -15  3.00\n",
      "9    3.0  303.1  376.6 -11.8   81.0  352.9 -12  3.46\n"
     ]
    }
   ],
   "source": [
    "# look at the dataset\n",
    "dataset = raw_dataset.copy()\n",
    "print(dataset)"
   ]
  },
  {
   "cell_type": "code",
   "execution_count": 43,
   "metadata": {},
   "outputs": [],
   "source": [
    "val_url = './validation.csv'\n",
    "test_dataset = pd.read_csv(val_url, na_values='?', skipinitialspace=True)"
   ]
  },
  {
   "cell_type": "code",
   "execution_count": 108,
   "metadata": {},
   "outputs": [],
   "source": [
    "test_features = test_dataset[['li','si']].copy()\n",
    "test_labels = test_dataset[['lo','so','ao','po']].copy()"
   ]
  },
  {
   "cell_type": "markdown",
   "metadata": {
    "id": "3MWuJTKEDM-f"
   },
   "source": [
    "### Clean the data\n",
    "\n",
    "The dataset contains a few unknown values:"
   ]
  },
  {
   "cell_type": "code",
   "execution_count": 45,
   "metadata": {
    "execution": {
     "iopub.execute_input": "2022-02-10T18:49:40.191201Z",
     "iopub.status.busy": "2022-02-10T18:49:40.190630Z",
     "iopub.status.idle": "2022-02-10T18:49:40.193376Z",
     "shell.execute_reply": "2022-02-10T18:49:40.192907Z"
    },
    "id": "JEJHhN65a2VV"
   },
   "outputs": [
    {
     "data": {
      "text/plain": [
       "li    0\n",
       "si    0\n",
       "di    0\n",
       "ai    0\n",
       "lo    0\n",
       "so    0\n",
       "ao    0\n",
       "po    0\n",
       "dtype: int64"
      ]
     },
     "execution_count": 45,
     "metadata": {},
     "output_type": "execute_result"
    }
   ],
   "source": [
    "dataset.isna().sum()"
   ]
  },
  {
   "cell_type": "markdown",
   "metadata": {
    "id": "9UPN0KBHa_WI"
   },
   "source": [
    "Drop those rows to keep this initial tutorial simple:"
   ]
  },
  {
   "cell_type": "code",
   "execution_count": 46,
   "metadata": {
    "execution": {
     "iopub.execute_input": "2022-02-10T18:49:40.198928Z",
     "iopub.status.busy": "2022-02-10T18:49:40.198397Z",
     "iopub.status.idle": "2022-02-10T18:49:40.199863Z",
     "shell.execute_reply": "2022-02-10T18:49:40.200228Z"
    },
    "id": "4ZUDosChC1UN",
    "scrolled": true
   },
   "outputs": [
    {
     "name": "stdout",
     "output_type": "stream",
     "text": [
      "      li     si     di    ai     lo     so  ao    po\n",
      "0  204.5   35.4  198.8  22.9  282.5   62.4  24  2.83\n",
      "1  105.7   34.7  281.2  15.5  183.7   71.7  15  3.05\n",
      "2    4.0   34.3  374.1  11.5   82.0   71.3  11  3.31\n",
      "3  106.1  113.7  253.5   6.7  184.1  150.7   7  2.95\n",
      "4    5.5  113.5  352.5   4.8   83.5  150.5   6  3.28\n",
      "5  106.3  224.0  254.3  -7.3  184.3  261.0  -7  3.00\n",
      "6    5.8  224.7  353.0  -5.3   83.8  261.7  -5  3.25\n",
      "7  205.3  303.1  201.9 -23.6  280.3  355.1 -24  2.96\n",
      "8  108.1  303.2  281.3 -16.2  184.1  350.2 -15  3.00\n",
      "9    3.0  303.1  376.6 -11.8   81.0  352.9 -12  3.46\n"
     ]
    }
   ],
   "source": [
    "dataset = dataset.dropna()\n",
    "print(dataset)"
   ]
  },
  {
   "cell_type": "markdown",
   "metadata": {},
   "source": [
    "## IGNORING ONE-HOT ENCODING HERE, ALL THE DATA IS NUMERICAL"
   ]
  },
  {
   "cell_type": "markdown",
   "metadata": {
    "id": "8XKitwaH4v8h"
   },
   "source": [
    "The `\"Origin\"` column is categorical, not numeric. So the next step is to one-hot encode the values in the column with [pd.get_dummies](https://pandas.pydata.org/docs/reference/api/pandas.get_dummies.html).\n",
    "\n",
    "Note: You can set up the `tf.keras.Model` to do this kind of transformation for you but that's beyond the scope of this tutorial. Check out the [Classify structured data using Keras preprocessing layers](../structured_data/preprocessing_layers.ipynb) or [Load CSV data](../load_data/csv.ipynb) tutorials for examples."
   ]
  },
  {
   "cell_type": "code",
   "execution_count": 47,
   "metadata": {
    "execution": {
     "iopub.execute_input": "2022-02-10T18:49:40.205506Z",
     "iopub.status.busy": "2022-02-10T18:49:40.204959Z",
     "iopub.status.idle": "2022-02-10T18:49:40.206995Z",
     "shell.execute_reply": "2022-02-10T18:49:40.206604Z"
    },
    "id": "gWNTD2QjBWFJ"
   },
   "outputs": [],
   "source": [
    "#dataset['Origin'] = dataset['Origin'].map({1: 'USA', 2: 'Europe', 3: 'Japan'})"
   ]
  },
  {
   "cell_type": "code",
   "execution_count": 48,
   "metadata": {
    "execution": {
     "iopub.execute_input": "2022-02-10T18:49:40.220555Z",
     "iopub.status.busy": "2022-02-10T18:49:40.211174Z",
     "iopub.status.idle": "2022-02-10T18:49:40.223084Z",
     "shell.execute_reply": "2022-02-10T18:49:40.223480Z"
    },
    "id": "ulXz4J7PAUzk",
    "scrolled": true
   },
   "outputs": [],
   "source": [
    "#dataset = pd.get_dummies(dataset, columns=['Origin'], prefix='', prefix_sep='')\n",
    "#dataset.tail()"
   ]
  },
  {
   "cell_type": "markdown",
   "metadata": {},
   "source": [
    "## RELEVANT AGAIN"
   ]
  },
  {
   "cell_type": "markdown",
   "metadata": {
    "id": "Cuym4yvk76vU"
   },
   "source": [
    "### Split the data into training and test sets\n",
    "\n",
    "Now, split the dataset into a training set and a test set. You will use the test set in the final evaluation of your models."
   ]
  },
  {
   "cell_type": "code",
   "execution_count": 49,
   "metadata": {
    "execution": {
     "iopub.execute_input": "2022-02-10T18:49:40.228743Z",
     "iopub.status.busy": "2022-02-10T18:49:40.228196Z",
     "iopub.status.idle": "2022-02-10T18:49:40.229889Z",
     "shell.execute_reply": "2022-02-10T18:49:40.230221Z"
    },
    "id": "qn-IGhUE7_1H"
   },
   "outputs": [],
   "source": [
    "train_dataset = dataset.copy()"
   ]
  },
  {
   "cell_type": "markdown",
   "metadata": {
    "id": "J4ubs136WLNp"
   },
   "source": [
    "### Inspect the data\n",
    "\n",
    "Review the joint distribution of a few pairs of columns from the training set.\n",
    "\n",
    "The top row suggests that the fuel efficiency (MPG) is a function of all the other parameters. The other rows indicate they are functions of each other."
   ]
  },
  {
   "cell_type": "code",
   "execution_count": 50,
   "metadata": {
    "execution": {
     "iopub.execute_input": "2022-02-10T18:49:40.248776Z",
     "iopub.status.busy": "2022-02-10T18:49:40.235066Z",
     "iopub.status.idle": "2022-02-10T18:49:42.306755Z",
     "shell.execute_reply": "2022-02-10T18:49:42.307170Z"
    },
    "id": "oRKO_x8gWKv-"
   },
   "outputs": [
    {
     "data": {
      "text/plain": [
       "<seaborn.axisgrid.PairGrid at 0x20bd90924c0>"
      ]
     },
     "execution_count": 50,
     "metadata": {},
     "output_type": "execute_result"
    },
    {
     "data": {
      "image/png": "[encoded data removed]",
      "text/plain": [
       "<Figure size 900x900 with 30 Axes>"
      ]
     },
     "metadata": {
      "needs_background": "light"
     },
     "output_type": "display_data"
    }
   ],
   "source": [
    "sns.pairplot(train_dataset[['li', 'si', 'lo', 'so','po']], diag_kind='kde')"
   ]
  },
  {
   "cell_type": "markdown",
   "metadata": {
    "id": "gavKO_6DWRMP"
   },
   "source": [
    "Let's also check the overall statistics. Note how each feature covers a very different range:"
   ]
  },
  {
   "cell_type": "code",
   "execution_count": 51,
   "metadata": {
    "execution": {
     "iopub.execute_input": "2022-02-10T18:49:42.313737Z",
     "iopub.status.busy": "2022-02-10T18:49:42.312083Z",
     "iopub.status.idle": "2022-02-10T18:49:42.343687Z",
     "shell.execute_reply": "2022-02-10T18:49:42.344037Z"
    },
    "id": "yi2FzC3T21jR"
   },
   "outputs": [
    {
     "data": {
      "text/html": [
       "<div>\n",
       "<style scoped>\n",
       "    .dataframe tbody tr th:only-of-type {\n",
       "        vertical-align: middle;\n",
       "    }\n",
       "\n",
       "    .dataframe tbody tr th {\n",
       "        vertical-align: top;\n",
       "    }\n",
       "\n",
       "    .dataframe thead th {\n",
       "        text-align: right;\n",
       "    }\n",
       "</style>\n",
       "<table border=\"1\" class=\"dataframe\">\n",
       "  <thead>\n",
       "    <tr style=\"text-align: right;\">\n",
       "      <th></th>\n",
       "      <th>count</th>\n",
       "      <th>mean</th>\n",
       "      <th>std</th>\n",
       "      <th>min</th>\n",
       "      <th>25%</th>\n",
       "      <th>50%</th>\n",
       "      <th>75%</th>\n",
       "      <th>max</th>\n",
       "    </tr>\n",
       "  </thead>\n",
       "  <tbody>\n",
       "    <tr>\n",
       "      <th>li</th>\n",
       "      <td>10.0</td>\n",
       "      <td>85.430</td>\n",
       "      <td>79.224983</td>\n",
       "      <td>3.00</td>\n",
       "      <td>5.575</td>\n",
       "      <td>105.900</td>\n",
       "      <td>107.6500</td>\n",
       "      <td>205.30</td>\n",
       "    </tr>\n",
       "    <tr>\n",
       "      <th>si</th>\n",
       "      <td>10.0</td>\n",
       "      <td>168.970</td>\n",
       "      <td>115.600183</td>\n",
       "      <td>34.30</td>\n",
       "      <td>54.925</td>\n",
       "      <td>168.850</td>\n",
       "      <td>283.5000</td>\n",
       "      <td>303.20</td>\n",
       "    </tr>\n",
       "    <tr>\n",
       "      <th>di</th>\n",
       "      <td>10.0</td>\n",
       "      <td>292.720</td>\n",
       "      <td>67.669586</td>\n",
       "      <td>198.80</td>\n",
       "      <td>253.700</td>\n",
       "      <td>281.250</td>\n",
       "      <td>352.8750</td>\n",
       "      <td>376.60</td>\n",
       "    </tr>\n",
       "    <tr>\n",
       "      <th>ai</th>\n",
       "      <td>10.0</td>\n",
       "      <td>-0.280</td>\n",
       "      <td>14.922302</td>\n",
       "      <td>-23.60</td>\n",
       "      <td>-10.675</td>\n",
       "      <td>-0.250</td>\n",
       "      <td>10.3000</td>\n",
       "      <td>22.90</td>\n",
       "    </tr>\n",
       "    <tr>\n",
       "      <th>lo</th>\n",
       "      <td>10.0</td>\n",
       "      <td>162.930</td>\n",
       "      <td>78.662416</td>\n",
       "      <td>81.00</td>\n",
       "      <td>83.575</td>\n",
       "      <td>183.900</td>\n",
       "      <td>184.2500</td>\n",
       "      <td>282.50</td>\n",
       "    </tr>\n",
       "    <tr>\n",
       "      <th>so</th>\n",
       "      <td>10.0</td>\n",
       "      <td>208.750</td>\n",
       "      <td>121.835866</td>\n",
       "      <td>62.40</td>\n",
       "      <td>91.400</td>\n",
       "      <td>205.850</td>\n",
       "      <td>328.0750</td>\n",
       "      <td>355.10</td>\n",
       "    </tr>\n",
       "    <tr>\n",
       "      <th>ao</th>\n",
       "      <td>10.0</td>\n",
       "      <td>0.000</td>\n",
       "      <td>15.003703</td>\n",
       "      <td>-24.00</td>\n",
       "      <td>-10.750</td>\n",
       "      <td>0.500</td>\n",
       "      <td>10.0000</td>\n",
       "      <td>24.00</td>\n",
       "    </tr>\n",
       "    <tr>\n",
       "      <th>po</th>\n",
       "      <td>10.0</td>\n",
       "      <td>3.109</td>\n",
       "      <td>0.201464</td>\n",
       "      <td>2.83</td>\n",
       "      <td>2.970</td>\n",
       "      <td>3.025</td>\n",
       "      <td>3.2725</td>\n",
       "      <td>3.46</td>\n",
       "    </tr>\n",
       "  </tbody>\n",
       "</table>\n",
       "</div>"
      ],
      "text/plain": [
       "    count     mean         std     min      25%      50%       75%     max\n",
       "li   10.0   85.430   79.224983    3.00    5.575  105.900  107.6500  205.30\n",
       "si   10.0  168.970  115.600183   34.30   54.925  168.850  283.5000  303.20\n",
       "di   10.0  292.720   67.669586  198.80  253.700  281.250  352.8750  376.60\n",
       "ai   10.0   -0.280   14.922302  -23.60  -10.675   -0.250   10.3000   22.90\n",
       "lo   10.0  162.930   78.662416   81.00   83.575  183.900  184.2500  282.50\n",
       "so   10.0  208.750  121.835866   62.40   91.400  205.850  328.0750  355.10\n",
       "ao   10.0    0.000   15.003703  -24.00  -10.750    0.500   10.0000   24.00\n",
       "po   10.0    3.109    0.201464    2.83    2.970    3.025    3.2725    3.46"
      ]
     },
     "execution_count": 51,
     "metadata": {},
     "output_type": "execute_result"
    }
   ],
   "source": [
    "train_dataset.describe().transpose()"
   ]
  },
  {
   "cell_type": "markdown",
   "metadata": {
    "id": "Db7Auq1yXUvh"
   },
   "source": [
    "### Split features from labels\n",
    "\n",
    "Separate the target value—the \"label\"—from the features. This label is the value that you will train the model to predict."
   ]
  },
  {
   "cell_type": "code",
   "execution_count": 52,
   "metadata": {
    "execution": {
     "iopub.execute_input": "2022-02-10T18:49:42.349683Z",
     "iopub.status.busy": "2022-02-10T18:49:42.349155Z",
     "iopub.status.idle": "2022-02-10T18:49:42.350883Z",
     "shell.execute_reply": "2022-02-10T18:49:42.351233Z"
    },
    "id": "t2sluJdCW7jN"
   },
   "outputs": [],
   "source": [
    "train_features = train_dataset[['li','si']].copy()\n",
    "train_labels = train_dataset[['ao','po']].copy()"
   ]
  },
  {
   "cell_type": "markdown",
   "metadata": {
    "id": "mRklxK5s388r"
   },
   "source": [
    "## Normalization\n",
    "\n",
    "In the table of statistics it's easy to see how different the ranges of each feature are:"
   ]
  },
  {
   "cell_type": "code",
   "execution_count": 53,
   "metadata": {
    "execution": {
     "iopub.execute_input": "2022-02-10T18:49:42.358614Z",
     "iopub.status.busy": "2022-02-10T18:49:42.356883Z",
     "iopub.status.idle": "2022-02-10T18:49:42.381740Z",
     "shell.execute_reply": "2022-02-10T18:49:42.382163Z"
    },
    "id": "IcmY6lKKbkw8"
   },
   "outputs": [
    {
     "data": {
      "text/html": [
       "<div>\n",
       "<style scoped>\n",
       "    .dataframe tbody tr th:only-of-type {\n",
       "        vertical-align: middle;\n",
       "    }\n",
       "\n",
       "    .dataframe tbody tr th {\n",
       "        vertical-align: top;\n",
       "    }\n",
       "\n",
       "    .dataframe thead th {\n",
       "        text-align: right;\n",
       "    }\n",
       "</style>\n",
       "<table border=\"1\" class=\"dataframe\">\n",
       "  <thead>\n",
       "    <tr style=\"text-align: right;\">\n",
       "      <th></th>\n",
       "      <th>mean</th>\n",
       "      <th>std</th>\n",
       "    </tr>\n",
       "  </thead>\n",
       "  <tbody>\n",
       "    <tr>\n",
       "      <th>li</th>\n",
       "      <td>85.430</td>\n",
       "      <td>79.224983</td>\n",
       "    </tr>\n",
       "    <tr>\n",
       "      <th>si</th>\n",
       "      <td>168.970</td>\n",
       "      <td>115.600183</td>\n",
       "    </tr>\n",
       "    <tr>\n",
       "      <th>di</th>\n",
       "      <td>292.720</td>\n",
       "      <td>67.669586</td>\n",
       "    </tr>\n",
       "    <tr>\n",
       "      <th>ai</th>\n",
       "      <td>-0.280</td>\n",
       "      <td>14.922302</td>\n",
       "    </tr>\n",
       "    <tr>\n",
       "      <th>lo</th>\n",
       "      <td>162.930</td>\n",
       "      <td>78.662416</td>\n",
       "    </tr>\n",
       "    <tr>\n",
       "      <th>so</th>\n",
       "      <td>208.750</td>\n",
       "      <td>121.835866</td>\n",
       "    </tr>\n",
       "    <tr>\n",
       "      <th>ao</th>\n",
       "      <td>0.000</td>\n",
       "      <td>15.003703</td>\n",
       "    </tr>\n",
       "    <tr>\n",
       "      <th>po</th>\n",
       "      <td>3.109</td>\n",
       "      <td>0.201464</td>\n",
       "    </tr>\n",
       "  </tbody>\n",
       "</table>\n",
       "</div>"
      ],
      "text/plain": [
       "       mean         std\n",
       "li   85.430   79.224983\n",
       "si  168.970  115.600183\n",
       "di  292.720   67.669586\n",
       "ai   -0.280   14.922302\n",
       "lo  162.930   78.662416\n",
       "so  208.750  121.835866\n",
       "ao    0.000   15.003703\n",
       "po    3.109    0.201464"
      ]
     },
     "execution_count": 53,
     "metadata": {},
     "output_type": "execute_result"
    }
   ],
   "source": [
    "train_dataset.describe().transpose()[['mean', 'std']]"
   ]
  },
  {
   "cell_type": "code",
   "execution_count": 54,
   "metadata": {},
   "outputs": [
    {
     "data": {
      "text/html": [
       "<div>\n",
       "<style scoped>\n",
       "    .dataframe tbody tr th:only-of-type {\n",
       "        vertical-align: middle;\n",
       "    }\n",
       "\n",
       "    .dataframe tbody tr th {\n",
       "        vertical-align: top;\n",
       "    }\n",
       "\n",
       "    .dataframe thead th {\n",
       "        text-align: right;\n",
       "    }\n",
       "</style>\n",
       "<table border=\"1\" class=\"dataframe\">\n",
       "  <thead>\n",
       "    <tr style=\"text-align: right;\">\n",
       "      <th></th>\n",
       "      <th>mean</th>\n",
       "      <th>std</th>\n",
       "    </tr>\n",
       "  </thead>\n",
       "  <tbody>\n",
       "    <tr>\n",
       "      <th>li</th>\n",
       "      <td>80.569231</td>\n",
       "      <td>75.944019</td>\n",
       "    </tr>\n",
       "    <tr>\n",
       "      <th>si</th>\n",
       "      <td>169.292308</td>\n",
       "      <td>106.712085</td>\n",
       "    </tr>\n",
       "    <tr>\n",
       "      <th>di</th>\n",
       "      <td>294.508266</td>\n",
       "      <td>64.769714</td>\n",
       "    </tr>\n",
       "    <tr>\n",
       "      <th>ai</th>\n",
       "      <td>-0.626671</td>\n",
       "      <td>13.722579</td>\n",
       "    </tr>\n",
       "    <tr>\n",
       "      <th>lo</th>\n",
       "      <td>158.030769</td>\n",
       "      <td>75.673161</td>\n",
       "    </tr>\n",
       "    <tr>\n",
       "      <th>so</th>\n",
       "      <td>208.984615</td>\n",
       "      <td>112.590681</td>\n",
       "    </tr>\n",
       "    <tr>\n",
       "      <th>ao</th>\n",
       "      <td>-0.076923</td>\n",
       "      <td>14.138962</td>\n",
       "    </tr>\n",
       "    <tr>\n",
       "      <th>po</th>\n",
       "      <td>3.107692</td>\n",
       "      <td>0.185794</td>\n",
       "    </tr>\n",
       "  </tbody>\n",
       "</table>\n",
       "</div>"
      ],
      "text/plain": [
       "          mean         std\n",
       "li   80.569231   75.944019\n",
       "si  169.292308  106.712085\n",
       "di  294.508266   64.769714\n",
       "ai   -0.626671   13.722579\n",
       "lo  158.030769   75.673161\n",
       "so  208.984615  112.590681\n",
       "ao   -0.076923   14.138962\n",
       "po    3.107692    0.185794"
      ]
     },
     "execution_count": 54,
     "metadata": {},
     "output_type": "execute_result"
    }
   ],
   "source": [
    "test_dataset.describe().transpose()[['mean','std']]"
   ]
  },
  {
   "cell_type": "markdown",
   "metadata": {
    "id": "-ywmerQ6dSox"
   },
   "source": [
    "It is good practice to normalize features that use different scales and ranges.\n",
    "\n",
    "One reason this is important is because the features are multiplied by the model weights. So, the scale of the outputs and the scale of the gradients are affected by the scale of the inputs.\n",
    "\n",
    "Although a model *might* converge without feature normalization, normalization makes training much more stable.\n",
    "\n",
    "Note: There is no advantage to normalizing the one-hot features—it is done here for simplicity. For more details on how to use the preprocessing layers, refer to the [Working with preprocessing layers](https://www.tensorflow.org/guide/keras/preprocessing_layers) guide and the [Classify structured data using Keras preprocessing layers](../structured_data/preprocessing_layers.ipynb) tutorial."
   ]
  },
  {
   "cell_type": "markdown",
   "metadata": {
    "id": "aFJ6ISropeoo"
   },
   "source": [
    "### The Normalization layer\n",
    "\n",
    "The `tf.keras.layers.Normalization` is a clean and simple way to add feature normalization into your model.\n",
    "\n",
    "The first step is to create the layer:"
   ]
  },
  {
   "cell_type": "code",
   "execution_count": 55,
   "metadata": {
    "execution": {
     "iopub.execute_input": "2022-02-10T18:49:42.386760Z",
     "iopub.status.busy": "2022-02-10T18:49:42.386182Z",
     "iopub.status.idle": "2022-02-10T18:49:42.392156Z",
     "shell.execute_reply": "2022-02-10T18:49:42.391676Z"
    },
    "id": "JlC5ooJrgjQF"
   },
   "outputs": [],
   "source": [
    "normalizer = tf.keras.layers.Normalization(axis=-1)"
   ]
  },
  {
   "cell_type": "markdown",
   "metadata": {
    "id": "XYA2Ap6nVOha"
   },
   "source": [
    "Then, fit the state of the preprocessing layer to the data by calling `Normalization.adapt`:"
   ]
  },
  {
   "cell_type": "code",
   "execution_count": 56,
   "metadata": {
    "execution": {
     "iopub.execute_input": "2022-02-10T18:49:43.960700Z",
     "iopub.status.busy": "2022-02-10T18:49:43.960009Z",
     "iopub.status.idle": "2022-02-10T18:49:44.156093Z",
     "shell.execute_reply": "2022-02-10T18:49:44.156489Z"
    },
    "id": "CrBbbjbwV91f"
   },
   "outputs": [],
   "source": [
    "normalizer.adapt(np.array(train_features))"
   ]
  },
  {
   "cell_type": "markdown",
   "metadata": {
    "id": "oZccMR5yV9YV"
   },
   "source": [
    "Calculate the mean and variance, and store them in the layer:"
   ]
  },
  {
   "cell_type": "code",
   "execution_count": 57,
   "metadata": {
    "execution": {
     "iopub.execute_input": "2022-02-10T18:49:44.161353Z",
     "iopub.status.busy": "2022-02-10T18:49:44.160518Z",
     "iopub.status.idle": "2022-02-10T18:49:44.163666Z",
     "shell.execute_reply": "2022-02-10T18:49:44.164091Z"
    },
    "id": "GGn-ukwxSPtx"
   },
   "outputs": [
    {
     "name": "stdout",
     "output_type": "stream",
     "text": [
      "[[ 85.43 168.97]]\n"
     ]
    }
   ],
   "source": [
    "print(normalizer.mean.numpy())"
   ]
  },
  {
   "cell_type": "markdown",
   "metadata": {
    "id": "oGWKaF9GSRuN"
   },
   "source": [
    "When the layer is called, it returns the input data, with each feature independently normalized:"
   ]
  },
  {
   "cell_type": "code",
   "execution_count": 58,
   "metadata": {
    "execution": {
     "iopub.execute_input": "2022-02-10T18:49:44.170742Z",
     "iopub.status.busy": "2022-02-10T18:49:44.169890Z",
     "iopub.status.idle": "2022-02-10T18:49:44.174652Z",
     "shell.execute_reply": "2022-02-10T18:49:44.174232Z"
    },
    "id": "2l7zFL_XWIRu"
   },
   "outputs": [
    {
     "name": "stdout",
     "output_type": "stream",
     "text": [
      "First example: [[204.5  35.4]]\n",
      "\n",
      "Normalized: [[ 1.58 -1.22]]\n"
     ]
    }
   ],
   "source": [
    "first = np.array(train_features[:1])\n",
    "\n",
    "with np.printoptions(precision=2, suppress=True):\n",
    "  print('First example:', first)\n",
    "  print()\n",
    "  print('Normalized:', normalizer(first).numpy())"
   ]
  },
  {
   "cell_type": "markdown",
   "metadata": {
    "id": "6o3CrycBXA2s"
   },
   "source": [
    "## Linear regression\n",
    "\n",
    "Before building a deep neural network model, start with linear regression using one and several variables."
   ]
  },
  {
   "cell_type": "markdown",
   "metadata": {
    "id": "lFby9n0tnHkw"
   },
   "source": [
    "### Linear regression with one variable\n",
    "\n",
    "Begin with a single-variable linear regression to predict `'lo'` from `'li'`.\n",
    "\n",
    "Training a model with `tf.keras` typically starts by defining the model architecture. Use a `tf.keras.Sequential` model, which [represents a sequence of steps](https://www.tensorflow.org/guide/keras/sequential_model).\n",
    "\n",
    "There are two steps in your single-variable linear regression model:\n",
    "\n",
    "- Normalize the `'li'` input features using the `tf.keras.layers.Normalization` preprocessing layer.\n",
    "- Apply a linear transformation ($y = mx+b$) to produce 1 output using a linear layer (`tf.keras.layers.Dense`).\n",
    "\n",
    "The number of _inputs_ can either be set by the `input_shape` argument, or automatically when the model is run for the first time."
   ]
  },
  {
   "cell_type": "markdown",
   "metadata": {
    "id": "Xp3gAFn3TPv8"
   },
   "source": [
    "First, create a NumPy array made of the `'Horsepower'` features. Then, instantiate the `tf.keras.layers.Normalization` and fit its state to the `horsepower` data:"
   ]
  },
  {
   "cell_type": "code",
   "execution_count": 59,
   "metadata": {
    "execution": {
     "iopub.execute_input": "2022-02-10T18:49:44.180814Z",
     "iopub.status.busy": "2022-02-10T18:49:44.179880Z",
     "iopub.status.idle": "2022-02-10T18:49:44.325637Z",
     "shell.execute_reply": "2022-02-10T18:49:44.326083Z"
    },
    "id": "1gJAy0fKs1TS"
   },
   "outputs": [],
   "source": [
    "long_input = np.array(train_features['li'])\n",
    "\n",
    "li_normalizer = layers.Normalization(input_shape=[1,], axis=None)\n",
    "li_normalizer.adapt(long_input)"
   ]
  },
  {
   "cell_type": "markdown",
   "metadata": {
    "id": "4NVlHJY2TWlC"
   },
   "source": [
    "Build the Keras Sequential model:"
   ]
  },
  {
   "cell_type": "code",
   "execution_count": 60,
   "metadata": {
    "execution": {
     "iopub.execute_input": "2022-02-10T18:49:44.333554Z",
     "iopub.status.busy": "2022-02-10T18:49:44.332907Z",
     "iopub.status.idle": "2022-02-10T18:49:44.360967Z",
     "shell.execute_reply": "2022-02-10T18:49:44.359129Z"
    },
    "id": "c0sXM7qLlKfZ"
   },
   "outputs": [
    {
     "name": "stdout",
     "output_type": "stream",
     "text": [
      "Model: \"sequential_1\"\n",
      "_________________________________________________________________\n",
      " Layer (type)                Output Shape              Param #   \n",
      "=================================================================\n",
      " normalization_3 (Normalizat  (None, 1)                3         \n",
      " ion)                                                            \n",
      "                                                                 \n",
      " dense_1 (Dense)             (None, 1)                 2         \n",
      "                                                                 \n",
      "=================================================================\n",
      "Total params: 5\n",
      "Trainable params: 2\n",
      "Non-trainable params: 3\n",
      "_________________________________________________________________\n"
     ]
    }
   ],
   "source": [
    "long_input_model = tf.keras.Sequential([\n",
    "    li_normalizer,\n",
    "    layers.Dense(units=1)\n",
    "])\n",
    "\n",
    "long_input_model.summary()"
   ]
  },
  {
   "cell_type": "markdown",
   "metadata": {
    "id": "eObQu9fDnXGL"
   },
   "source": [
    "This model will predict `'lo'` from `'li'`.\n",
    "\n",
    "Run the untrained model on the first 10 'lo' values. The output won't be good, but notice that it has the expected shape of `(10, 1)`:"
   ]
  },
  {
   "cell_type": "code",
   "execution_count": 61,
   "metadata": {
    "execution": {
     "iopub.execute_input": "2022-02-10T18:49:44.365394Z",
     "iopub.status.busy": "2022-02-10T18:49:44.364843Z",
     "iopub.status.idle": "2022-02-10T18:49:44.844866Z",
     "shell.execute_reply": "2022-02-10T18:49:44.844395Z"
    },
    "id": "UfV1HS6bns-s"
   },
   "outputs": [
    {
     "name": "stdout",
     "output_type": "stream",
     "text": [
      "1/1 [==============================] - 0s 40ms/step\n"
     ]
    },
    {
     "data": {
      "text/plain": [
       "array([[-0.262],\n",
       "       [-0.045],\n",
       "       [ 0.179],\n",
       "       [-0.046],\n",
       "       [ 0.176],\n",
       "       [-0.046],\n",
       "       [ 0.175],\n",
       "       [-0.264],\n",
       "       [-0.05 ],\n",
       "       [ 0.182]], dtype=float32)"
      ]
     },
     "execution_count": 61,
     "metadata": {},
     "output_type": "execute_result"
    }
   ],
   "source": [
    "long_input_model.predict(long_input[:10])"
   ]
  },
  {
   "cell_type": "markdown",
   "metadata": {
    "id": "CSkanJlmmFBX"
   },
   "source": [
    "Once the model is built, configure the training procedure using the Keras `Model.compile` method. The most important arguments to compile are the `loss` and the `optimizer`, since these define what will be optimized (`mean_absolute_error`) and how (using the `tf.keras.optimizers.Adam`)."
   ]
  },
  {
   "cell_type": "code",
   "execution_count": 62,
   "metadata": {
    "execution": {
     "iopub.execute_input": "2022-02-10T18:49:44.853036Z",
     "iopub.status.busy": "2022-02-10T18:49:44.852363Z",
     "iopub.status.idle": "2022-02-10T18:49:44.857046Z",
     "shell.execute_reply": "2022-02-10T18:49:44.856616Z"
    },
    "id": "JxA_3lpOm-SK"
   },
   "outputs": [],
   "source": [
    "long_input_model.compile(\n",
    "    optimizer=tf.optimizers.Adam(learning_rate=0.1),\n",
    "    loss='mean_absolute_error')"
   ]
  },
  {
   "cell_type": "markdown",
   "metadata": {
    "id": "Z3q1I9TwnRSC"
   },
   "source": [
    "Use Keras `Model.fit` to execute the training for 100 epochs:"
   ]
  },
  {
   "cell_type": "code",
   "execution_count": 63,
   "metadata": {
    "execution": {
     "iopub.execute_input": "2022-02-10T18:49:44.863427Z",
     "iopub.status.busy": "2022-02-10T18:49:44.862794Z",
     "iopub.status.idle": "2022-02-10T18:49:48.680742Z",
     "shell.execute_reply": "2022-02-10T18:49:48.680216Z"
    },
    "id": "-iSrNy59nRAp"
   },
   "outputs": [
    {
     "name": "stdout",
     "output_type": "stream",
     "text": [
      "CPU times: total: 12.9 s\n",
      "Wall time: 10.7 s\n"
     ]
    }
   ],
   "source": [
    "%%time\n",
    "history = long_input_model.fit(\n",
    "    train_features['li'],\n",
    "    train_labels['po'],\n",
    "    epochs=500,\n",
    "    # Suppress logging.\n",
    "    verbose=0,\n",
    "    # Calculate validation results on 20% of the training data.\n",
    "    validation_split = 0.3)"
   ]
  },
  {
   "cell_type": "markdown",
   "metadata": {
    "id": "tQm3pc0FYPQB"
   },
   "source": [
    "Visualize the model's training progress using the stats stored in the `history` object:"
   ]
  },
  {
   "cell_type": "code",
   "execution_count": 64,
   "metadata": {
    "execution": {
     "iopub.execute_input": "2022-02-10T18:49:48.690410Z",
     "iopub.status.busy": "2022-02-10T18:49:48.689805Z",
     "iopub.status.idle": "2022-02-10T18:49:48.692680Z",
     "shell.execute_reply": "2022-02-10T18:49:48.693082Z"
    },
    "id": "YCAwD_y4AdC3"
   },
   "outputs": [
    {
     "data": {
      "text/html": [
       "<div>\n",
       "<style scoped>\n",
       "    .dataframe tbody tr th:only-of-type {\n",
       "        vertical-align: middle;\n",
       "    }\n",
       "\n",
       "    .dataframe tbody tr th {\n",
       "        vertical-align: top;\n",
       "    }\n",
       "\n",
       "    .dataframe thead th {\n",
       "        text-align: right;\n",
       "    }\n",
       "</style>\n",
       "<table border=\"1\" class=\"dataframe\">\n",
       "  <thead>\n",
       "    <tr style=\"text-align: right;\">\n",
       "      <th></th>\n",
       "      <th>loss</th>\n",
       "      <th>val_loss</th>\n",
       "      <th>epoch</th>\n",
       "    </tr>\n",
       "  </thead>\n",
       "  <tbody>\n",
       "    <tr>\n",
       "      <th>495</th>\n",
       "      <td>0.031738</td>\n",
       "      <td>0.120629</td>\n",
       "      <td>495</td>\n",
       "    </tr>\n",
       "    <tr>\n",
       "      <th>496</th>\n",
       "      <td>0.030686</td>\n",
       "      <td>0.116910</td>\n",
       "      <td>496</td>\n",
       "    </tr>\n",
       "    <tr>\n",
       "      <th>497</th>\n",
       "      <td>0.034175</td>\n",
       "      <td>0.119053</td>\n",
       "      <td>497</td>\n",
       "    </tr>\n",
       "    <tr>\n",
       "      <th>498</th>\n",
       "      <td>0.032306</td>\n",
       "      <td>0.121677</td>\n",
       "      <td>498</td>\n",
       "    </tr>\n",
       "    <tr>\n",
       "      <th>499</th>\n",
       "      <td>0.031512</td>\n",
       "      <td>0.124738</td>\n",
       "      <td>499</td>\n",
       "    </tr>\n",
       "  </tbody>\n",
       "</table>\n",
       "</div>"
      ],
      "text/plain": [
       "         loss  val_loss  epoch\n",
       "495  0.031738  0.120629    495\n",
       "496  0.030686  0.116910    496\n",
       "497  0.034175  0.119053    497\n",
       "498  0.032306  0.121677    498\n",
       "499  0.031512  0.124738    499"
      ]
     },
     "execution_count": 64,
     "metadata": {},
     "output_type": "execute_result"
    }
   ],
   "source": [
    "hist = pd.DataFrame(history.history)\n",
    "hist['epoch'] = history.epoch\n",
    "hist.tail()"
   ]
  },
  {
   "cell_type": "code",
   "execution_count": 65,
   "metadata": {
    "execution": {
     "iopub.execute_input": "2022-02-10T18:49:48.698252Z",
     "iopub.status.busy": "2022-02-10T18:49:48.697650Z",
     "iopub.status.idle": "2022-02-10T18:49:48.699276Z",
     "shell.execute_reply": "2022-02-10T18:49:48.699618Z"
    },
    "id": "9E54UoZunqhc"
   },
   "outputs": [],
   "source": [
    "def plot_loss(history):\n",
    "  plt.plot(history.history['loss'], label='loss')\n",
    "  plt.plot(history.history['val_loss'], label='val_loss')\n",
    "  plt.ylim([0, 10])\n",
    "  plt.xlabel('Epoch')\n",
    "  plt.ylabel('Error [po]')\n",
    "  plt.legend()\n",
    "  plt.grid(True)"
   ]
  },
  {
   "cell_type": "code",
   "execution_count": 66,
   "metadata": {
    "execution": {
     "iopub.execute_input": "2022-02-10T18:49:48.742749Z",
     "iopub.status.busy": "2022-02-10T18:49:48.732930Z",
     "iopub.status.idle": "2022-02-10T18:49:48.833894Z",
     "shell.execute_reply": "2022-02-10T18:49:48.834644Z"
    },
    "id": "yYsQYrIZyqjz"
   },
   "outputs": [
    {
     "data": {
      "image/png": "[encoded data removed]",
      "text/plain": [
       "<Figure size 432x288 with 1 Axes>"
      ]
     },
     "metadata": {
      "needs_background": "light"
     },
     "output_type": "display_data"
    }
   ],
   "source": [
    "plot_loss(history)"
   ]
  },
  {
   "cell_type": "markdown",
   "metadata": {
    "id": "CMNrt8X2ebXd"
   },
   "source": [
    "Collect the results on the test set for later:"
   ]
  },
  {
   "cell_type": "code",
   "execution_count": 67,
   "metadata": {
    "execution": {
     "iopub.execute_input": "2022-02-10T18:49:48.842074Z",
     "iopub.status.busy": "2022-02-10T18:49:48.841005Z",
     "iopub.status.idle": "2022-02-10T18:49:48.887091Z",
     "shell.execute_reply": "2022-02-10T18:49:48.886599Z"
    },
    "id": "kDZ8EvNYrDtx"
   },
   "outputs": [],
   "source": [
    "test_results = {}\n",
    "\n",
    "test_results['long_input_model'] = long_input_model.evaluate(\n",
    "    test_features['li'],\n",
    "    test_labels['po'], verbose=0)"
   ]
  },
  {
   "cell_type": "markdown",
   "metadata": {
    "id": "F0qutYAKwoda"
   },
   "source": [
    "Since this is a single variable regression, it's easy to view the model's predictions as a function of the input:"
   ]
  },
  {
   "cell_type": "code",
   "execution_count": 68,
   "metadata": {
    "execution": {
     "iopub.execute_input": "2022-02-10T18:49:48.891759Z",
     "iopub.status.busy": "2022-02-10T18:49:48.891186Z",
     "iopub.status.idle": "2022-02-10T18:49:48.965099Z",
     "shell.execute_reply": "2022-02-10T18:49:48.965514Z"
    },
    "id": "xDS2JEtOn9Jn"
   },
   "outputs": [
    {
     "name": "stdout",
     "output_type": "stream",
     "text": [
      "8/8 [==============================] - 0s 855us/step\n"
     ]
    }
   ],
   "source": [
    "x = tf.linspace(0.0, 250, 251)\n",
    "y = long_input_model.predict(x)"
   ]
  },
  {
   "cell_type": "code",
   "execution_count": 69,
   "metadata": {
    "execution": {
     "iopub.execute_input": "2022-02-10T18:49:48.970477Z",
     "iopub.status.busy": "2022-02-10T18:49:48.969860Z",
     "iopub.status.idle": "2022-02-10T18:49:48.971997Z",
     "shell.execute_reply": "2022-02-10T18:49:48.971492Z"
    },
    "id": "rttFCTU8czsI"
   },
   "outputs": [],
   "source": [
    "def plot_horsepower(x, y):\n",
    "  plt.scatter(train_features['li'], train_labels['po'], label='Data')\n",
    "  plt.plot(x, y, color='k', label='Predictions')\n",
    "  plt.xlabel('li')\n",
    "  plt.ylabel('po')\n",
    "  plt.legend()"
   ]
  },
  {
   "cell_type": "code",
   "execution_count": 70,
   "metadata": {
    "execution": {
     "iopub.execute_input": "2022-02-10T18:49:48.991529Z",
     "iopub.status.busy": "2022-02-10T18:49:48.990975Z",
     "iopub.status.idle": "2022-02-10T18:49:49.105182Z",
     "shell.execute_reply": "2022-02-10T18:49:49.104264Z"
    },
    "id": "7l9ZiAOEUNBL"
   },
   "outputs": [
    {
     "data": {
      "image/png": "[encoded data removed]",
      "text/plain": [
       "<Figure size 432x288 with 1 Axes>"
      ]
     },
     "metadata": {
      "needs_background": "light"
     },
     "output_type": "display_data"
    }
   ],
   "source": [
    "plot_horsepower(x, y)"
   ]
  },
  {
   "cell_type": "markdown",
   "metadata": {
    "id": "Yk2RmlqPoM9u"
   },
   "source": [
    "### Linear regression with multiple inputs"
   ]
  },
  {
   "cell_type": "markdown",
   "metadata": {
    "id": "PribnwDHUksC"
   },
   "source": [
    "You can use an almost identical setup to make predictions based on multiple inputs. This model still does the same $y = mx+b$ except that $m$ is a matrix and $b$ is a vector.\n",
    "\n",
    "Create a two-step Keras Sequential model again with the first layer being `normalizer` (`tf.keras.layers.Normalization(axis=-1)`) you defined earlier and adapted to the whole dataset:"
   ]
  },
  {
   "cell_type": "code",
   "execution_count": 71,
   "metadata": {
    "execution": {
     "iopub.execute_input": "2022-02-10T18:49:49.112754Z",
     "iopub.status.busy": "2022-02-10T18:49:49.111627Z",
     "iopub.status.idle": "2022-02-10T18:49:49.127956Z",
     "shell.execute_reply": "2022-02-10T18:49:49.127038Z"
    },
    "id": "ssnVcKg7oMe6"
   },
   "outputs": [],
   "source": [
    "linear_model = tf.keras.Sequential([\n",
    "    normalizer,\n",
    "    layers.Dense(units=1)\n",
    "])"
   ]
  },
  {
   "cell_type": "markdown",
   "metadata": {
    "id": "IHlx6WeIWyAr"
   },
   "source": [
    "When you call `Model.predict` on a batch of inputs, it produces `units=1` outputs for each example:"
   ]
  },
  {
   "cell_type": "code",
   "execution_count": 72,
   "metadata": {
    "execution": {
     "iopub.execute_input": "2022-02-10T18:49:49.133274Z",
     "iopub.status.busy": "2022-02-10T18:49:49.132619Z",
     "iopub.status.idle": "2022-02-10T18:49:49.201242Z",
     "shell.execute_reply": "2022-02-10T18:49:49.201627Z"
    },
    "id": "DynfJV18WiuT"
   },
   "outputs": [
    {
     "name": "stdout",
     "output_type": "stream",
     "text": [
      "1/1 [==============================] - 0s 44ms/step\n"
     ]
    },
    {
     "data": {
      "text/plain": [
       "array([[-1.921],\n",
       "       [-1.366],\n",
       "       [-0.791],\n",
       "       [-0.632],\n",
       "       [-0.062],\n",
       "       [ 0.394],\n",
       "       [ 0.972],\n",
       "       [ 0.568],\n",
       "       [ 1.121],\n",
       "       [ 1.718]], dtype=float32)"
      ]
     },
     "execution_count": 72,
     "metadata": {},
     "output_type": "execute_result"
    }
   ],
   "source": [
    "linear_model.predict(train_features[:10])"
   ]
  },
  {
   "cell_type": "markdown",
   "metadata": {
    "id": "hvHKH3rPXHmq"
   },
   "source": [
    "When you call the model, its weight matrices will be built—check that the `kernel` weights (the $m$ in $y=mx+b$) have a shape of `(9, 1)`:"
   ]
  },
  {
   "cell_type": "code",
   "execution_count": 73,
   "metadata": {
    "execution": {
     "iopub.execute_input": "2022-02-10T18:49:49.206130Z",
     "iopub.status.busy": "2022-02-10T18:49:49.205547Z",
     "iopub.status.idle": "2022-02-10T18:49:49.208636Z",
     "shell.execute_reply": "2022-02-10T18:49:49.209007Z"
    },
    "id": "DwJ4Fq0RXBQf"
   },
   "outputs": [
    {
     "data": {
      "text/plain": [
       "<tf.Variable 'dense_2/kernel:0' shape=(2, 1) dtype=float32, numpy=\n",
       "array([[-0.427],\n",
       "       [ 1.022]], dtype=float32)>"
      ]
     },
     "execution_count": 73,
     "metadata": {},
     "output_type": "execute_result"
    }
   ],
   "source": [
    "linear_model.layers[1].kernel"
   ]
  },
  {
   "cell_type": "markdown",
   "metadata": {
    "id": "eINAc6rZXzOt"
   },
   "source": [
    "Configure the model with Keras `Model.compile` and train with `Model.fit` for 100 epochs:"
   ]
  },
  {
   "cell_type": "code",
   "execution_count": 74,
   "metadata": {
    "execution": {
     "iopub.execute_input": "2022-02-10T18:49:49.215000Z",
     "iopub.status.busy": "2022-02-10T18:49:49.214250Z",
     "iopub.status.idle": "2022-02-10T18:49:49.217796Z",
     "shell.execute_reply": "2022-02-10T18:49:49.218158Z"
    },
    "id": "A0Sv_Ybr0szp"
   },
   "outputs": [],
   "source": [
    "linear_model.compile(\n",
    "    optimizer=tf.optimizers.Adam(learning_rate=0.1),\n",
    "    loss='mean_absolute_error')"
   ]
  },
  {
   "cell_type": "code",
   "execution_count": 75,
   "metadata": {
    "execution": {
     "iopub.execute_input": "2022-02-10T18:49:49.223797Z",
     "iopub.status.busy": "2022-02-10T18:49:49.223180Z",
     "iopub.status.idle": "2022-02-10T18:49:52.742462Z",
     "shell.execute_reply": "2022-02-10T18:49:52.742897Z"
    },
    "id": "EZoOYORvoTSe"
   },
   "outputs": [
    {
     "ename": "KeyError",
     "evalue": "'lo'",
     "output_type": "error",
     "traceback": [
      "\u001b[1;31m---------------------------------------------------------------------------\u001b[0m",
      "\u001b[1;31mKeyError\u001b[0m                                  Traceback (most recent call last)",
      "File \u001b[1;32m~\\anaconda3\\lib\\site-packages\\pandas\\core\\indexes\\base.py:3621\u001b[0m, in \u001b[0;36mIndex.get_loc\u001b[1;34m(self, key, method, tolerance)\u001b[0m\n\u001b[0;32m   3620\u001b[0m \u001b[38;5;28;01mtry\u001b[39;00m:\n\u001b[1;32m-> 3621\u001b[0m     \u001b[38;5;28;01mreturn\u001b[39;00m \u001b[38;5;28;43mself\u001b[39;49m\u001b[38;5;241;43m.\u001b[39;49m\u001b[43m_engine\u001b[49m\u001b[38;5;241;43m.\u001b[39;49m\u001b[43mget_loc\u001b[49m\u001b[43m(\u001b[49m\u001b[43mcasted_key\u001b[49m\u001b[43m)\u001b[49m\n\u001b[0;32m   3622\u001b[0m \u001b[38;5;28;01mexcept\u001b[39;00m \u001b[38;5;167;01mKeyError\u001b[39;00m \u001b[38;5;28;01mas\u001b[39;00m err:\n",
      "File \u001b[1;32m~\\anaconda3\\lib\\site-packages\\pandas\\_libs\\index.pyx:136\u001b[0m, in \u001b[0;36mpandas._libs.index.IndexEngine.get_loc\u001b[1;34m()\u001b[0m\n",
      "File \u001b[1;32m~\\anaconda3\\lib\\site-packages\\pandas\\_libs\\index.pyx:163\u001b[0m, in \u001b[0;36mpandas._libs.index.IndexEngine.get_loc\u001b[1;34m()\u001b[0m\n",
      "File \u001b[1;32mpandas\\_libs\\hashtable_class_helper.pxi:5198\u001b[0m, in \u001b[0;36mpandas._libs.hashtable.PyObjectHashTable.get_item\u001b[1;34m()\u001b[0m\n",
      "File \u001b[1;32mpandas\\_libs\\hashtable_class_helper.pxi:5206\u001b[0m, in \u001b[0;36mpandas._libs.hashtable.PyObjectHashTable.get_item\u001b[1;34m()\u001b[0m\n",
      "\u001b[1;31mKeyError\u001b[0m: 'lo'",
      "\nThe above exception was the direct cause of the following exception:\n",
      "\u001b[1;31mKeyError\u001b[0m                                  Traceback (most recent call last)",
      "File \u001b[1;32m<timed exec>:3\u001b[0m, in \u001b[0;36m<module>\u001b[1;34m\u001b[0m\n",
      "File \u001b[1;32m~\\anaconda3\\lib\\site-packages\\pandas\\core\\frame.py:3505\u001b[0m, in \u001b[0;36mDataFrame.__getitem__\u001b[1;34m(self, key)\u001b[0m\n\u001b[0;32m   3503\u001b[0m \u001b[38;5;28;01mif\u001b[39;00m \u001b[38;5;28mself\u001b[39m\u001b[38;5;241m.\u001b[39mcolumns\u001b[38;5;241m.\u001b[39mnlevels \u001b[38;5;241m>\u001b[39m \u001b[38;5;241m1\u001b[39m:\n\u001b[0;32m   3504\u001b[0m     \u001b[38;5;28;01mreturn\u001b[39;00m \u001b[38;5;28mself\u001b[39m\u001b[38;5;241m.\u001b[39m_getitem_multilevel(key)\n\u001b[1;32m-> 3505\u001b[0m indexer \u001b[38;5;241m=\u001b[39m \u001b[38;5;28;43mself\u001b[39;49m\u001b[38;5;241;43m.\u001b[39;49m\u001b[43mcolumns\u001b[49m\u001b[38;5;241;43m.\u001b[39;49m\u001b[43mget_loc\u001b[49m\u001b[43m(\u001b[49m\u001b[43mkey\u001b[49m\u001b[43m)\u001b[49m\n\u001b[0;32m   3506\u001b[0m \u001b[38;5;28;01mif\u001b[39;00m is_integer(indexer):\n\u001b[0;32m   3507\u001b[0m     indexer \u001b[38;5;241m=\u001b[39m [indexer]\n",
      "File \u001b[1;32m~\\anaconda3\\lib\\site-packages\\pandas\\core\\indexes\\base.py:3623\u001b[0m, in \u001b[0;36mIndex.get_loc\u001b[1;34m(self, key, method, tolerance)\u001b[0m\n\u001b[0;32m   3621\u001b[0m     \u001b[38;5;28;01mreturn\u001b[39;00m \u001b[38;5;28mself\u001b[39m\u001b[38;5;241m.\u001b[39m_engine\u001b[38;5;241m.\u001b[39mget_loc(casted_key)\n\u001b[0;32m   3622\u001b[0m \u001b[38;5;28;01mexcept\u001b[39;00m \u001b[38;5;167;01mKeyError\u001b[39;00m \u001b[38;5;28;01mas\u001b[39;00m err:\n\u001b[1;32m-> 3623\u001b[0m     \u001b[38;5;28;01mraise\u001b[39;00m \u001b[38;5;167;01mKeyError\u001b[39;00m(key) \u001b[38;5;28;01mfrom\u001b[39;00m \u001b[38;5;21;01merr\u001b[39;00m\n\u001b[0;32m   3624\u001b[0m \u001b[38;5;28;01mexcept\u001b[39;00m \u001b[38;5;167;01mTypeError\u001b[39;00m:\n\u001b[0;32m   3625\u001b[0m     \u001b[38;5;66;03m# If we have a listlike key, _check_indexing_error will raise\u001b[39;00m\n\u001b[0;32m   3626\u001b[0m     \u001b[38;5;66;03m#  InvalidIndexError. Otherwise we fall through and re-raise\u001b[39;00m\n\u001b[0;32m   3627\u001b[0m     \u001b[38;5;66;03m#  the TypeError.\u001b[39;00m\n\u001b[0;32m   3628\u001b[0m     \u001b[38;5;28mself\u001b[39m\u001b[38;5;241m.\u001b[39m_check_indexing_error(key)\n",
      "\u001b[1;31mKeyError\u001b[0m: 'lo'"
     ]
    }
   ],
   "source": [
    "%%time\n",
    "history = linear_model.fit(\n",
    "    train_features,\n",
    "    train_labels['lo'],\n",
    "    epochs=500,\n",
    "    # Suppress logging.\n",
    "    verbose=0,\n",
    "    # Calculate validation results on 20% of the training data.\n",
    "    validation_split = 0.2)"
   ]
  },
  {
   "cell_type": "markdown",
   "metadata": {
    "id": "EdxiCbiNYK2F"
   },
   "source": [
    "Using all the inputs in this regression model achieves a much lower training and validation error than the `horsepower_model`, which had one input:"
   ]
  },
  {
   "cell_type": "code",
   "execution_count": 76,
   "metadata": {
    "execution": {
     "iopub.execute_input": "2022-02-10T18:49:52.759974Z",
     "iopub.status.busy": "2022-02-10T18:49:52.755220Z",
     "iopub.status.idle": "2022-02-10T18:49:52.862490Z",
     "shell.execute_reply": "2022-02-10T18:49:52.863365Z"
    },
    "id": "4sWO3W0koYgu"
   },
   "outputs": [
    {
     "data": {
      "image/png": "[encoded data removed]",
      "text/plain": [
       "<Figure size 432x288 with 1 Axes>"
      ]
     },
     "metadata": {
      "needs_background": "light"
     },
     "output_type": "display_data"
    }
   ],
   "source": [
    "plot_loss(history)"
   ]
  },
  {
   "cell_type": "markdown",
   "metadata": {
    "id": "NyN49hIWe_NH"
   },
   "source": [
    "Collect the results on the test set for later:"
   ]
  },
  {
   "cell_type": "code",
   "execution_count": 77,
   "metadata": {
    "execution": {
     "iopub.execute_input": "2022-02-10T18:49:52.870380Z",
     "iopub.status.busy": "2022-02-10T18:49:52.869365Z",
     "iopub.status.idle": "2022-02-10T18:49:52.924349Z",
     "shell.execute_reply": "2022-02-10T18:49:52.924776Z"
    },
    "id": "jNC3D1DGsGgK"
   },
   "outputs": [],
   "source": [
    "test_results['linear_model'] = linear_model.evaluate(\n",
    "    test_features, test_labels, verbose=0)"
   ]
  },
  {
   "cell_type": "markdown",
   "metadata": {
    "id": "SmjdzxKzEu1-"
   },
   "source": [
    "## Regression with a deep neural network (DNN)"
   ]
  },
  {
   "cell_type": "markdown",
   "metadata": {
    "id": "DT_aHPsrzO1t"
   },
   "source": [
    "In the previous section, you implemented two linear models for single and multiple inputs.\n",
    "\n",
    "Here, you will implement single-input and multiple-input DNN models.\n",
    "\n",
    "The code is basically the same except the model is expanded to include some \"hidden\" non-linear layers. The name \"hidden\" here just means not directly connected to the inputs or outputs."
   ]
  },
  {
   "cell_type": "markdown",
   "metadata": {
    "id": "6SWtkIjhrZwa"
   },
   "source": [
    "These models will contain a few more layers than the linear model:\n",
    "\n",
    "* The normalization layer, as before (with `horsepower_normalizer` for a single-input model and `normalizer` for a multiple-input model).\n",
    "* Two hidden, non-linear, `Dense` layers with the ReLU (`relu`) activation function nonlinearity.\n",
    "* A linear `Dense` single-output layer.\n",
    "\n",
    "Both models will use the same training procedure so the `compile` method is included in the `build_and_compile_model` function below."
   ]
  },
  {
   "cell_type": "code",
   "execution_count": 78,
   "metadata": {
    "execution": {
     "iopub.execute_input": "2022-02-10T18:49:52.930566Z",
     "iopub.status.busy": "2022-02-10T18:49:52.929991Z",
     "iopub.status.idle": "2022-02-10T18:49:52.932094Z",
     "shell.execute_reply": "2022-02-10T18:49:52.932521Z"
    },
    "id": "c26juK7ZG8j-"
   },
   "outputs": [],
   "source": [
    "def build_and_compile_model(norm):\n",
    "  model = keras.Sequential([\n",
    "      norm,\n",
    "      layers.Dense(16, activation='relu'),\n",
    "      layers.Dense(16, activation='relu'),\n",
    "      layers.Dense(2)\n",
    "  ])\n",
    "\n",
    "  model.compile(loss='mean_absolute_error',\n",
    "                optimizer=tf.keras.optimizers.Adam(0.01))\n",
    "  return model"
   ]
  },
  {
   "cell_type": "markdown",
   "metadata": {
    "id": "6c51caebbc0d"
   },
   "source": [
    "### Regression using a DNN and a single input"
   ]
  },
  {
   "cell_type": "markdown",
   "metadata": {
    "id": "xvu9gtxTZR5V"
   },
   "source": [
    "Create a DNN model with only `'Horsepower'` as input and `horsepower_normalizer` (defined earlier) as the normalization layer:"
   ]
  },
  {
   "cell_type": "code",
   "execution_count": 79,
   "metadata": {
    "execution": {
     "iopub.execute_input": "2022-02-10T18:49:52.942142Z",
     "iopub.status.busy": "2022-02-10T18:49:52.939453Z",
     "iopub.status.idle": "2022-02-10T18:49:52.971615Z",
     "shell.execute_reply": "2022-02-10T18:49:52.972021Z"
    },
    "id": "cGbPb-PHGbhs"
   },
   "outputs": [],
   "source": [
    "dnn_li_model = build_and_compile_model(li_normalizer)"
   ]
  },
  {
   "cell_type": "markdown",
   "metadata": {
    "id": "Sj49Og4YGULr"
   },
   "source": [
    "This model has quite a few more trainable parameters than the linear models:"
   ]
  },
  {
   "cell_type": "code",
   "execution_count": 80,
   "metadata": {
    "execution": {
     "iopub.execute_input": "2022-02-10T18:49:52.977014Z",
     "iopub.status.busy": "2022-02-10T18:49:52.976296Z",
     "iopub.status.idle": "2022-02-10T18:49:52.992343Z",
     "shell.execute_reply": "2022-02-10T18:49:52.991080Z"
    },
    "id": "ReAD0n6MsFK-",
    "scrolled": true
   },
   "outputs": [
    {
     "name": "stdout",
     "output_type": "stream",
     "text": [
      "Model: \"sequential_3\"\n",
      "_________________________________________________________________\n",
      " Layer (type)                Output Shape              Param #   \n",
      "=================================================================\n",
      " normalization_3 (Normalizat  (None, 1)                3         \n",
      " ion)                                                            \n",
      "                                                                 \n",
      " dense_3 (Dense)             (None, 64)                128       \n",
      "                                                                 \n",
      " dense_4 (Dense)             (None, 64)                4160      \n",
      "                                                                 \n",
      " dense_5 (Dense)             (None, 2)                 130       \n",
      "                                                                 \n",
      "=================================================================\n",
      "Total params: 4,421\n",
      "Trainable params: 4,418\n",
      "Non-trainable params: 3\n",
      "_________________________________________________________________\n"
     ]
    }
   ],
   "source": [
    "dnn_li_model.summary()"
   ]
  },
  {
   "cell_type": "markdown",
   "metadata": {
    "id": "0-qWCsh6DlyH"
   },
   "source": [
    "Train the model with Keras `Model.fit`:"
   ]
  },
  {
   "cell_type": "code",
   "execution_count": 81,
   "metadata": {
    "execution": {
     "iopub.execute_input": "2022-02-10T18:49:52.999011Z",
     "iopub.status.busy": "2022-02-10T18:49:52.998401Z",
     "iopub.status.idle": "2022-02-10T18:49:56.795868Z",
     "shell.execute_reply": "2022-02-10T18:49:56.796367Z"
    },
    "id": "sD7qHCmNIOY0"
   },
   "outputs": [
    {
     "name": "stdout",
     "output_type": "stream",
     "text": [
      "CPU times: total: 13.3 s\n",
      "Wall time: 11.2 s\n"
     ]
    }
   ],
   "source": [
    "%%time\n",
    "history = dnn_li_model.fit(\n",
    "    train_features['li'],\n",
    "    train_labels,\n",
    "    validation_split=0.2,\n",
    "    verbose=0, epochs=500)"
   ]
  },
  {
   "cell_type": "markdown",
   "metadata": {
    "id": "dArGGxHxcKjN"
   },
   "source": [
    "This model does slightly better than the linear single-input `horsepower_model`:"
   ]
  },
  {
   "cell_type": "code",
   "execution_count": 82,
   "metadata": {
    "execution": {
     "iopub.execute_input": "2022-02-10T18:49:56.831231Z",
     "iopub.status.busy": "2022-02-10T18:49:56.820968Z",
     "iopub.status.idle": "2022-02-10T18:49:56.919634Z",
     "shell.execute_reply": "2022-02-10T18:49:56.919158Z"
    },
    "id": "NcF6UWjdCU8T"
   },
   "outputs": [
    {
     "data": {
      "image/png": "[encoded data removed]",
      "text/plain": [
       "<Figure size 432x288 with 1 Axes>"
      ]
     },
     "metadata": {
      "needs_background": "light"
     },
     "output_type": "display_data"
    }
   ],
   "source": [
    "plot_loss(history)"
   ]
  },
  {
   "cell_type": "markdown",
   "metadata": {
    "id": "TG1snlpR2QCK"
   },
   "source": [
    "If you plot the predictions as a function of `'Horsepower'`, you should notice how this model takes advantage of the nonlinearity provided by the hidden layers:"
   ]
  },
  {
   "cell_type": "code",
   "execution_count": 83,
   "metadata": {
    "execution": {
     "iopub.execute_input": "2022-02-10T18:49:56.924249Z",
     "iopub.status.busy": "2022-02-10T18:49:56.923581Z",
     "iopub.status.idle": "2022-02-10T18:49:57.005980Z",
     "shell.execute_reply": "2022-02-10T18:49:57.006371Z"
    },
    "id": "hPF53Rem14NS"
   },
   "outputs": [
    {
     "name": "stdout",
     "output_type": "stream",
     "text": [
      "8/8 [==============================] - 0s 1ms/step\n"
     ]
    }
   ],
   "source": [
    "x = tf.linspace(0.0, 250, 251)\n",
    "y = dnn_li_model.predict(x)"
   ]
  },
  {
   "cell_type": "code",
   "execution_count": 84,
   "metadata": {
    "execution": {
     "iopub.execute_input": "2022-02-10T18:49:57.025399Z",
     "iopub.status.busy": "2022-02-10T18:49:57.021025Z",
     "iopub.status.idle": "2022-02-10T18:49:57.138040Z",
     "shell.execute_reply": "2022-02-10T18:49:57.137486Z"
    },
    "id": "rsf9rD8I17Wq"
   },
   "outputs": [
    {
     "ename": "IndexError",
     "evalue": "index 3 is out of bounds for axis 1 with size 2",
     "output_type": "error",
     "traceback": [
      "\u001b[1;31m---------------------------------------------------------------------------\u001b[0m",
      "\u001b[1;31mIndexError\u001b[0m                                Traceback (most recent call last)",
      "Input \u001b[1;32mIn [84]\u001b[0m, in \u001b[0;36m<cell line: 1>\u001b[1;34m()\u001b[0m\n\u001b[1;32m----> 1\u001b[0m plot_horsepower(x, \u001b[43my\u001b[49m\u001b[43m[\u001b[49m\u001b[43m:\u001b[49m\u001b[43m,\u001b[49m\u001b[38;5;241;43m3\u001b[39;49m\u001b[43m]\u001b[49m)\n",
      "\u001b[1;31mIndexError\u001b[0m: index 3 is out of bounds for axis 1 with size 2"
     ]
    }
   ],
   "source": [
    "plot_horsepower(x, y[:,3])"
   ]
  },
  {
   "cell_type": "markdown",
   "metadata": {
    "id": "WxCJKIUpe4io"
   },
   "source": [
    "Collect the results on the test set for later:"
   ]
  },
  {
   "cell_type": "code",
   "execution_count": null,
   "metadata": {
    "execution": {
     "iopub.execute_input": "2022-02-10T18:49:57.143891Z",
     "iopub.status.busy": "2022-02-10T18:49:57.143262Z",
     "iopub.status.idle": "2022-02-10T18:49:57.200160Z",
     "shell.execute_reply": "2022-02-10T18:49:57.199624Z"
    },
    "id": "bJjM0dU52XtN"
   },
   "outputs": [],
   "source": [
    "test_results['dnn_li_model'] = dnn_li_model.evaluate(\n",
    "    test_features['li'], test_labels['po'],\n",
    "    verbose=0)"
   ]
  },
  {
   "cell_type": "markdown",
   "metadata": {
    "id": "S_2Btebp2e64"
   },
   "source": [
    "### Regression using a DNN and multiple inputs"
   ]
  },
  {
   "cell_type": "markdown",
   "metadata": {
    "id": "aKFtezDldLSf"
   },
   "source": [
    "Repeat the previous process using all the inputs. The model's performance slightly improves on the validation dataset."
   ]
  },
  {
   "cell_type": "code",
   "execution_count": null,
   "metadata": {
    "execution": {
     "iopub.execute_input": "2022-02-10T18:49:57.207609Z",
     "iopub.status.busy": "2022-02-10T18:49:57.206672Z",
     "iopub.status.idle": "2022-02-10T18:49:57.250024Z",
     "shell.execute_reply": "2022-02-10T18:49:57.247608Z"
    },
    "id": "c0mhscXh2k36"
   },
   "outputs": [],
   "source": [
    "dnn_model = build_and_compile_model(normalizer)\n",
    "dnn_model.summary()"
   ]
  },
  {
   "cell_type": "code",
   "execution_count": null,
   "metadata": {
    "execution": {
     "iopub.execute_input": "2022-02-10T18:49:57.256094Z",
     "iopub.status.busy": "2022-02-10T18:49:57.255224Z",
     "iopub.status.idle": "2022-02-10T18:50:01.081171Z",
     "shell.execute_reply": "2022-02-10T18:50:01.081558Z"
    },
    "id": "CXDENACl2tuW"
   },
   "outputs": [],
   "source": [
    "%%time\n",
    "history = dnn_model.fit(\n",
    "    train_features,\n",
    "    train_labels,\n",
    "    validation_split=0.2,\n",
    "    verbose=1, epochs=100)"
   ]
  },
  {
   "cell_type": "code",
   "execution_count": null,
   "metadata": {
    "execution": {
     "iopub.execute_input": "2022-02-10T18:50:01.126048Z",
     "iopub.status.busy": "2022-02-10T18:50:01.123544Z",
     "iopub.status.idle": "2022-02-10T18:50:01.212658Z",
     "shell.execute_reply": "2022-02-10T18:50:01.212131Z"
    },
    "id": "-9Dbj0fX23RQ"
   },
   "outputs": [],
   "source": [
    "plot_loss(history)"
   ]
  },
  {
   "cell_type": "markdown",
   "metadata": {
    "id": "hWoVYS34fJPZ"
   },
   "source": [
    "Collect the results on the test set:"
   ]
  },
  {
   "cell_type": "code",
   "execution_count": null,
   "metadata": {
    "execution": {
     "iopub.execute_input": "2022-02-10T18:50:01.217877Z",
     "iopub.status.busy": "2022-02-10T18:50:01.217326Z",
     "iopub.status.idle": "2022-02-10T18:50:01.270381Z",
     "shell.execute_reply": "2022-02-10T18:50:01.270738Z"
    },
    "id": "-bZIa96W3c7K"
   },
   "outputs": [],
   "source": [
    "test_results['dnn_model'] = dnn_model.evaluate(test_features, test_labels, verbose=1)"
   ]
  },
  {
   "cell_type": "markdown",
   "metadata": {
    "id": "uiCucdPLfMkZ"
   },
   "source": [
    "## Performance"
   ]
  },
  {
   "cell_type": "markdown",
   "metadata": {
    "id": "rDf1xebEfWBw"
   },
   "source": [
    "Since all models have been trained, you can review their test set performance:"
   ]
  },
  {
   "cell_type": "code",
   "execution_count": null,
   "metadata": {
    "execution": {
     "iopub.execute_input": "2022-02-10T18:50:01.278322Z",
     "iopub.status.busy": "2022-02-10T18:50:01.277751Z",
     "iopub.status.idle": "2022-02-10T18:50:01.280547Z",
     "shell.execute_reply": "2022-02-10T18:50:01.280120Z"
    },
    "id": "e5_ooufM5iH2"
   },
   "outputs": [],
   "source": [
    "pd.DataFrame(test_results, index=['Mean absolute error']).T"
   ]
  },
  {
   "cell_type": "markdown",
   "metadata": {
    "id": "DABIVzsCf-QI"
   },
   "source": [
    "These results match the validation error observed during training."
   ]
  },
  {
   "cell_type": "markdown",
   "metadata": {
    "id": "ft603OzXuEZC"
   },
   "source": [
    "### Make predictions\n",
    "\n",
    "You can now make predictions with the `dnn_model` on the test set using Keras `Model.predict` and review the loss:"
   ]
  },
  {
   "cell_type": "code",
   "execution_count": null,
   "metadata": {},
   "outputs": [],
   "source": [
    "x = np.linspace(0.0, 205, 205)"
   ]
  },
  {
   "cell_type": "code",
   "execution_count": null,
   "metadata": {
    "scrolled": true
   },
   "outputs": [],
   "source": [
    "input_x = np.c_[x,np.ones((x.shape[0],1))*train_features.iloc[0][1:].to_numpy()]"
   ]
  },
  {
   "cell_type": "code",
   "execution_count": null,
   "metadata": {},
   "outputs": [],
   "source": [
    "y = dnn_model.predict(input_x)"
   ]
  },
  {
   "cell_type": "code",
   "execution_count": null,
   "metadata": {},
   "outputs": [],
   "source": [
    "plot_horsepower(x, y[:,1])"
   ]
  },
  {
   "cell_type": "code",
   "execution_count": null,
   "metadata": {},
   "outputs": [],
   "source": [
    "test_predictions = dnn_model.predict(test_features)"
   ]
  },
  {
   "cell_type": "code",
   "execution_count": null,
   "metadata": {
    "execution": {
     "iopub.execute_input": "2022-02-10T18:50:01.285726Z",
     "iopub.status.busy": "2022-02-10T18:50:01.285195Z",
     "iopub.status.idle": "2022-02-10T18:50:01.467584Z",
     "shell.execute_reply": "2022-02-10T18:50:01.467942Z"
    },
    "id": "Xe7RXH3N3CWU"
   },
   "outputs": [],
   "source": [
    "a = plt.axes(aspect='equal')\n",
    "plt.scatter(test_labels['po'], test_predictions[:,1])\n",
    "plt.xlabel('True Values [po]')\n",
    "plt.ylabel('Predictions [po]')\n",
    "lims = [0, 5]\n",
    "plt.xlim(lims)\n",
    "plt.ylim(lims)\n",
    "_ = plt.plot(lims, lims)\n"
   ]
  },
  {
   "cell_type": "markdown",
   "metadata": {
    "id": "19wyogbOSU5t"
   },
   "source": [
    "It appears that the model predicts reasonably well.\n",
    "\n",
    "Now, check the error distribution:"
   ]
  },
  {
   "cell_type": "code",
   "execution_count": null,
   "metadata": {
    "execution": {
     "iopub.execute_input": "2022-02-10T18:50:01.485165Z",
     "iopub.status.busy": "2022-02-10T18:50:01.482700Z",
     "iopub.status.idle": "2022-02-10T18:50:01.605105Z",
     "shell.execute_reply": "2022-02-10T18:50:01.605495Z"
    },
    "id": "f-OHX4DiXd8x"
   },
   "outputs": [],
   "source": [
    "error = test_predictions - test_labels\n",
    "'''plt.hist(error, bins=25)\n",
    "plt.xlabel('Prediction Error [lo]')\n",
    "_ = plt.ylabel('Count')'''\n",
    "print(error)\n",
    "print(error.describe())"
   ]
  },
  {
   "cell_type": "markdown",
   "metadata": {
    "id": "KSyaHUfDT-mZ"
   },
   "source": [
    "If you're happy with the model, save it for later use with `Model.save`:"
   ]
  },
  {
   "cell_type": "code",
   "execution_count": null,
   "metadata": {
    "execution": {
     "iopub.execute_input": "2022-02-10T18:50:01.613251Z",
     "iopub.status.busy": "2022-02-10T18:50:01.612486Z",
     "iopub.status.idle": "2022-02-10T18:50:02.182706Z",
     "shell.execute_reply": "2022-02-10T18:50:02.182142Z"
    },
    "id": "4-WwLlmfT-mb"
   },
   "outputs": [],
   "source": [
    "#dnn_model.save('dnn_model_two_layer_64')"
   ]
  },
  {
   "cell_type": "markdown",
   "metadata": {
    "id": "Benlnl8UT-me"
   },
   "source": [
    "If you reload the model, it gives identical output:"
   ]
  },
  {
   "cell_type": "code",
   "execution_count": 110,
   "metadata": {
    "execution": {
     "iopub.execute_input": "2022-02-10T18:50:02.187652Z",
     "iopub.status.busy": "2022-02-10T18:50:02.187050Z",
     "iopub.status.idle": "2022-02-10T18:50:02.513620Z",
     "shell.execute_reply": "2022-02-10T18:50:02.513107Z"
    },
    "id": "dyyyj2zVT-mf"
   },
   "outputs": [],
   "source": [
    "reloaded = tf.keras.models.load_model('dnn_model')\n",
    "\n",
    "test_results['reloaded'] = reloaded.evaluate(\n",
    "    test_features, test_labels, verbose=0)"
   ]
  },
  {
   "cell_type": "code",
   "execution_count": 111,
   "metadata": {},
   "outputs": [
    {
     "name": "stdout",
     "output_type": "stream",
     "text": [
      "1/1 [==============================] - 0s 51ms/step\n"
     ]
    }
   ],
   "source": [
    "test_predictions = reloaded.predict(test_features)"
   ]
  },
  {
   "cell_type": "code",
   "execution_count": 115,
   "metadata": {
    "scrolled": true
   },
   "outputs": [
    {
     "name": "stdout",
     "output_type": "stream",
     "text": [
      "1/1 [==============================] - 0s 31ms/step\n",
      "[[217.935 236.76   -8.672   2.669]]\n"
     ]
    }
   ],
   "source": [
    "# test_case = [li,si]\n",
    "test_case = [154.8,227.7]\n",
    "prediction = reloaded.predict(test_case)\n",
    "print(prediction)"
   ]
  },
  {
   "cell_type": "code",
   "execution_count": 112,
   "metadata": {
    "scrolled": true
   },
   "outputs": [
    {
     "name": "stdout",
     "output_type": "stream",
     "text": [
      "           lo         so        ao        po\n",
      "0    0.165448   1.336582 -1.535681 -0.026579\n",
      "1   -0.139850  -3.939424  2.427246 -0.054744\n",
      "2   -0.462001   0.204630 -1.827811 -0.075413\n",
      "3  -21.505609 -74.657529  4.953096 -0.434094\n",
      "4   -0.905000  -0.848526 -1.251094  0.007064\n",
      "5  -20.401318 -20.771744 -0.692325 -0.227627\n",
      "6   -0.252754  -0.532562  0.720998  0.049086\n",
      "7    0.030365   0.144049  1.518349  0.060125\n",
      "8  -13.241815  14.349042 -7.567417  0.037608\n",
      "9   28.192102  16.341962 -4.398480  0.388099\n",
      "10 -11.489764 -32.452219  1.306950 -0.172737\n",
      "11 -13.929614  -7.925189 -1.924510 -0.171123\n",
      "12  11.891763   8.991879 -0.149255 -0.023007\n",
      "              lo         so         ao         po\n",
      "count  13.000000  13.000000  13.000000  13.000000\n",
      "mean   -3.234465  -7.673773  -0.647687  -0.049488\n",
      "std    13.482858  24.027448   3.130319   0.190518\n",
      "min   -21.505609 -74.657529  -7.567417  -0.434094\n",
      "25%   -13.241815  -7.925189  -1.827811  -0.171123\n",
      "50%    -0.462001  -0.532562  -0.692325  -0.026579\n",
      "75%     0.030365   1.336582   1.306950   0.037608\n",
      "max    28.192102  16.341962   4.953096   0.388099\n"
     ]
    }
   ],
   "source": [
    "error = test_predictions - test_labels\n",
    "'''plt.hist(error, bins=25)\n",
    "plt.xlabel('Prediction Error [lo]')\n",
    "_ = plt.ylabel('Count')'''\n",
    "print(error)\n",
    "print(error.describe())"
   ]
  },
  {
   "cell_type": "code",
   "execution_count": 102,
   "metadata": {
    "execution": {
     "iopub.execute_input": "2022-02-10T18:50:02.521391Z",
     "iopub.status.busy": "2022-02-10T18:50:02.520817Z",
     "iopub.status.idle": "2022-02-10T18:50:02.524379Z",
     "shell.execute_reply": "2022-02-10T18:50:02.523866Z"
    },
    "id": "f_GchJ2tg-2o"
   },
   "outputs": [
    {
     "data": {
      "text/html": [
       "<div>\n",
       "<style scoped>\n",
       "    .dataframe tbody tr th:only-of-type {\n",
       "        vertical-align: middle;\n",
       "    }\n",
       "\n",
       "    .dataframe tbody tr th {\n",
       "        vertical-align: top;\n",
       "    }\n",
       "\n",
       "    .dataframe thead th {\n",
       "        text-align: right;\n",
       "    }\n",
       "</style>\n",
       "<table border=\"1\" class=\"dataframe\">\n",
       "  <thead>\n",
       "    <tr style=\"text-align: right;\">\n",
       "      <th></th>\n",
       "      <th>Mean absolute error [MPG]</th>\n",
       "    </tr>\n",
       "  </thead>\n",
       "  <tbody>\n",
       "    <tr>\n",
       "      <th>long_input_model</th>\n",
       "      <td>0.067353</td>\n",
       "    </tr>\n",
       "    <tr>\n",
       "      <th>linear_model</th>\n",
       "      <td>7.775870</td>\n",
       "    </tr>\n",
       "    <tr>\n",
       "      <th>reloaded</th>\n",
       "      <td>0.551381</td>\n",
       "    </tr>\n",
       "  </tbody>\n",
       "</table>\n",
       "</div>"
      ],
      "text/plain": [
       "                  Mean absolute error [MPG]\n",
       "long_input_model                   0.067353\n",
       "linear_model                       7.775870\n",
       "reloaded                           0.551381"
      ]
     },
     "execution_count": 102,
     "metadata": {},
     "output_type": "execute_result"
    }
   ],
   "source": [
    "pd.DataFrame(test_results, index=['Mean absolute error [MPG]']).T"
   ]
  },
  {
   "cell_type": "markdown",
   "metadata": {
    "id": "vgGQuV-yqYZH"
   },
   "source": [
    "## Conclusion\n",
    "\n",
    "This notebook introduced a few techniques to handle a regression problem. Here are a few more tips that may help:\n",
    "\n",
    "- Mean squared error (MSE) (`tf.keras.losses.MeanSquaredError`) and mean absolute error (MAE) (`tf.keras.losses.MeanAbsoluteError`) are common loss functions used for regression problems. MAE is less sensitive to outliers. Different loss functions are used for classification problems.\n",
    "- Similarly, evaluation metrics used for regression differ from classification.\n",
    "- When numeric input data features have values with different ranges, each feature should be scaled independently to the same range.\n",
    "- Overfitting is a common problem for DNN models, though it wasn't a problem for this tutorial. Visit the [Overfit and underfit](overfit_and_underfit.ipynb) tutorial for more help with this."
   ]
  }
 ],
 "metadata": {
  "colab": {
   "collapsed_sections": [],
   "name": "regression.ipynb",
   "toc_visible": true
  },
  "kernelspec": {
   "display_name": "Python 3 (ipykernel)",
   "language": "python",
   "name": "python3"
  },
  "language_info": {
   "codemirror_mode": {
    "name": "ipython",
    "version": 3
   },
   "file_extension": ".py",
   "mimetype": "text/x-python",
   "name": "python",
   "nbconvert_exporter": "python",
   "pygments_lexer": "ipython3",
   "version": "3.9.12"
  }
 },
 "nbformat": 4,
 "nbformat_minor": 1
}
